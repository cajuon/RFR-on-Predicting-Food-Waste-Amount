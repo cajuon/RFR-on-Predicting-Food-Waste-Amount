{
 "cells": [
  {
   "cell_type": "markdown",
   "metadata": {},
   "source": [
    "# Random Forest Regressor (RFR)"
   ]
  },
  {
   "cell_type": "markdown",
   "metadata": {},
   "source": [
    "## 0.0 Python packages"
   ]
  },
  {
   "cell_type": "code",
   "execution_count": 133,
   "metadata": {},
   "outputs": [],
   "source": [
    "# Packages for preprocessing\n",
    "import numpy as np\n",
    "import matplotlib.pyplot as plt\n",
    "import pandas as pd"
   ]
  },
  {
   "cell_type": "code",
   "execution_count": 134,
   "metadata": {},
   "outputs": [],
   "source": [
    "# Packages for modeling\n",
    "from sklearn.ensemble import RandomForestRegressor"
   ]
  },
  {
   "cell_type": "code",
   "execution_count": 135,
   "metadata": {},
   "outputs": [],
   "source": [
    "# Packages for the training and testing\n",
    "from sklearn.preprocessing import StandardScaler\n",
    "from sklearn.model_selection import train_test_split\n",
    "from sklearn.model_selection import cross_validate\n",
    "from sklearn.model_selection import KFold\n",
    "from sklearn.model_selection import LeaveOneOut"
   ]
  },
  {
   "cell_type": "code",
   "execution_count": 136,
   "metadata": {},
   "outputs": [],
   "source": [
    "# Packages for model evaluation\n",
    "from sklearn.metrics import mean_absolute_error\n",
    "from sklearn.metrics import mean_squared_error\n",
    "from sklearn.metrics import mean_absolute_percentage_error\n",
    "from numpy import mean\n",
    "from numpy import absolute"
   ]
  },
  {
   "cell_type": "markdown",
   "metadata": {},
   "source": [
    "## 1.0 Pre-processing"
   ]
  },
  {
   "cell_type": "markdown",
   "metadata": {},
   "source": [
    "### 1.1 Dataset"
   ]
  },
  {
   "cell_type": "code",
   "execution_count": 137,
   "metadata": {},
   "outputs": [
    {
     "data": {
      "text/html": [
       "<div>\n",
       "<style scoped>\n",
       "    .dataframe tbody tr th:only-of-type {\n",
       "        vertical-align: middle;\n",
       "    }\n",
       "\n",
       "    .dataframe tbody tr th {\n",
       "        vertical-align: top;\n",
       "    }\n",
       "\n",
       "    .dataframe thead th {\n",
       "        text-align: right;\n",
       "    }\n",
       "</style>\n",
       "<table border=\"1\" class=\"dataframe\">\n",
       "  <thead>\n",
       "    <tr style=\"text-align: right;\">\n",
       "      <th></th>\n",
       "      <th>Year</th>\n",
       "      <th>2022</th>\n",
       "      <th>2021</th>\n",
       "      <th>2020</th>\n",
       "      <th>2019</th>\n",
       "      <th>2018</th>\n",
       "      <th>2017</th>\n",
       "      <th>2016</th>\n",
       "      <th>2015</th>\n",
       "      <th>2014</th>\n",
       "      <th>2013</th>\n",
       "      <th>2012</th>\n",
       "      <th>2011</th>\n",
       "      <th>2010</th>\n",
       "      <th>2009</th>\n",
       "    </tr>\n",
       "  </thead>\n",
       "  <tbody>\n",
       "    <tr>\n",
       "      <th>0</th>\n",
       "      <td>Amount_in_tonnes</td>\n",
       "      <td>6205000</td>\n",
       "      <td>6207555</td>\n",
       "      <td>6237006</td>\n",
       "      <td>6191860</td>\n",
       "      <td>6051700</td>\n",
       "      <td>6091120</td>\n",
       "      <td>5490000</td>\n",
       "      <td>5475000</td>\n",
       "      <td>2920000</td>\n",
       "      <td>5475000</td>\n",
       "      <td>3864960</td>\n",
       "      <td>339450</td>\n",
       "      <td>254590</td>\n",
       "      <td>169725</td>\n",
       "    </tr>\n",
       "  </tbody>\n",
       "</table>\n",
       "</div>"
      ],
      "text/plain": [
       "               Year     2022     2021     2020     2019     2018     2017  \\\n",
       "0  Amount_in_tonnes  6205000  6207555  6237006  6191860  6051700  6091120   \n",
       "\n",
       "      2016     2015     2014     2013     2012    2011    2010    2009  \n",
       "0  5490000  5475000  2920000  5475000  3864960  339450  254590  169725  "
      ]
     },
     "execution_count": 137,
     "metadata": {},
     "output_type": "execute_result"
    }
   ],
   "source": [
    "# Import the dataset\n",
    "annual_df = pd.read_csv(\"data/total-amount-of-food-waste-annually-in-malaysia.csv\")\n",
    "annual_df"
   ]
  },
  {
   "cell_type": "code",
   "execution_count": 138,
   "metadata": {},
   "outputs": [
    {
     "data": {
      "text/html": [
       "<div>\n",
       "<style scoped>\n",
       "    .dataframe tbody tr th:only-of-type {\n",
       "        vertical-align: middle;\n",
       "    }\n",
       "\n",
       "    .dataframe tbody tr th {\n",
       "        vertical-align: top;\n",
       "    }\n",
       "\n",
       "    .dataframe thead th {\n",
       "        text-align: right;\n",
       "    }\n",
       "</style>\n",
       "<table border=\"1\" class=\"dataframe\">\n",
       "  <thead>\n",
       "    <tr style=\"text-align: right;\">\n",
       "      <th></th>\n",
       "      <th>0</th>\n",
       "    </tr>\n",
       "  </thead>\n",
       "  <tbody>\n",
       "    <tr>\n",
       "      <th>Year</th>\n",
       "      <td>Amount_in_tonnes</td>\n",
       "    </tr>\n",
       "    <tr>\n",
       "      <th>2022</th>\n",
       "      <td>6205000</td>\n",
       "    </tr>\n",
       "    <tr>\n",
       "      <th>2021</th>\n",
       "      <td>6207555</td>\n",
       "    </tr>\n",
       "    <tr>\n",
       "      <th>2020</th>\n",
       "      <td>6237006</td>\n",
       "    </tr>\n",
       "    <tr>\n",
       "      <th>2019</th>\n",
       "      <td>6191860</td>\n",
       "    </tr>\n",
       "    <tr>\n",
       "      <th>2018</th>\n",
       "      <td>6051700</td>\n",
       "    </tr>\n",
       "    <tr>\n",
       "      <th>2017</th>\n",
       "      <td>6091120</td>\n",
       "    </tr>\n",
       "    <tr>\n",
       "      <th>2016</th>\n",
       "      <td>5490000</td>\n",
       "    </tr>\n",
       "    <tr>\n",
       "      <th>2015</th>\n",
       "      <td>5475000</td>\n",
       "    </tr>\n",
       "    <tr>\n",
       "      <th>2014</th>\n",
       "      <td>2920000</td>\n",
       "    </tr>\n",
       "    <tr>\n",
       "      <th>2013</th>\n",
       "      <td>5475000</td>\n",
       "    </tr>\n",
       "    <tr>\n",
       "      <th>2012</th>\n",
       "      <td>3864960</td>\n",
       "    </tr>\n",
       "    <tr>\n",
       "      <th>2011</th>\n",
       "      <td>339450</td>\n",
       "    </tr>\n",
       "    <tr>\n",
       "      <th>2010</th>\n",
       "      <td>254590</td>\n",
       "    </tr>\n",
       "    <tr>\n",
       "      <th>2009</th>\n",
       "      <td>169725</td>\n",
       "    </tr>\n",
       "  </tbody>\n",
       "</table>\n",
       "</div>"
      ],
      "text/plain": [
       "                     0\n",
       "Year  Amount_in_tonnes\n",
       "2022           6205000\n",
       "2021           6207555\n",
       "2020           6237006\n",
       "2019           6191860\n",
       "2018           6051700\n",
       "2017           6091120\n",
       "2016           5490000\n",
       "2015           5475000\n",
       "2014           2920000\n",
       "2013           5475000\n",
       "2012           3864960\n",
       "2011            339450\n",
       "2010            254590\n",
       "2009            169725"
      ]
     },
     "execution_count": 138,
     "metadata": {},
     "output_type": "execute_result"
    }
   ],
   "source": [
    "#Transpose the dataframe\n",
    "annual_df = annual_df.transpose()\n",
    "annual_df"
   ]
  },
  {
   "cell_type": "code",
   "execution_count": 139,
   "metadata": {},
   "outputs": [
    {
     "data": {
      "text/html": [
       "<div>\n",
       "<style scoped>\n",
       "    .dataframe tbody tr th:only-of-type {\n",
       "        vertical-align: middle;\n",
       "    }\n",
       "\n",
       "    .dataframe tbody tr th {\n",
       "        vertical-align: top;\n",
       "    }\n",
       "\n",
       "    .dataframe thead th {\n",
       "        text-align: right;\n",
       "    }\n",
       "</style>\n",
       "<table border=\"1\" class=\"dataframe\">\n",
       "  <thead>\n",
       "    <tr style=\"text-align: right;\">\n",
       "      <th></th>\n",
       "      <th>Year</th>\n",
       "      <th>Amount_in_tonnes</th>\n",
       "    </tr>\n",
       "  </thead>\n",
       "  <tbody>\n",
       "    <tr>\n",
       "      <th>0</th>\n",
       "      <td>2009</td>\n",
       "      <td>169725</td>\n",
       "    </tr>\n",
       "    <tr>\n",
       "      <th>1</th>\n",
       "      <td>2010</td>\n",
       "      <td>254590</td>\n",
       "    </tr>\n",
       "    <tr>\n",
       "      <th>2</th>\n",
       "      <td>2011</td>\n",
       "      <td>339450</td>\n",
       "    </tr>\n",
       "    <tr>\n",
       "      <th>3</th>\n",
       "      <td>2012</td>\n",
       "      <td>3864960</td>\n",
       "    </tr>\n",
       "    <tr>\n",
       "      <th>4</th>\n",
       "      <td>2013</td>\n",
       "      <td>5475000</td>\n",
       "    </tr>\n",
       "    <tr>\n",
       "      <th>5</th>\n",
       "      <td>2014</td>\n",
       "      <td>2920000</td>\n",
       "    </tr>\n",
       "    <tr>\n",
       "      <th>6</th>\n",
       "      <td>2015</td>\n",
       "      <td>5475000</td>\n",
       "    </tr>\n",
       "    <tr>\n",
       "      <th>7</th>\n",
       "      <td>2016</td>\n",
       "      <td>5490000</td>\n",
       "    </tr>\n",
       "    <tr>\n",
       "      <th>8</th>\n",
       "      <td>2017</td>\n",
       "      <td>6091120</td>\n",
       "    </tr>\n",
       "    <tr>\n",
       "      <th>9</th>\n",
       "      <td>2018</td>\n",
       "      <td>6051700</td>\n",
       "    </tr>\n",
       "    <tr>\n",
       "      <th>10</th>\n",
       "      <td>2019</td>\n",
       "      <td>6191860</td>\n",
       "    </tr>\n",
       "    <tr>\n",
       "      <th>11</th>\n",
       "      <td>2020</td>\n",
       "      <td>6237006</td>\n",
       "    </tr>\n",
       "    <tr>\n",
       "      <th>12</th>\n",
       "      <td>2021</td>\n",
       "      <td>6207555</td>\n",
       "    </tr>\n",
       "    <tr>\n",
       "      <th>13</th>\n",
       "      <td>2022</td>\n",
       "      <td>6205000</td>\n",
       "    </tr>\n",
       "  </tbody>\n",
       "</table>\n",
       "</div>"
      ],
      "text/plain": [
       "0   Year Amount_in_tonnes\n",
       "0   2009           169725\n",
       "1   2010           254590\n",
       "2   2011           339450\n",
       "3   2012          3864960\n",
       "4   2013          5475000\n",
       "5   2014          2920000\n",
       "6   2015          5475000\n",
       "7   2016          5490000\n",
       "8   2017          6091120\n",
       "9   2018          6051700\n",
       "10  2019          6191860\n",
       "11  2020          6237006\n",
       "12  2021          6207555\n",
       "13  2022          6205000"
      ]
     },
     "execution_count": 139,
     "metadata": {},
     "output_type": "execute_result"
    }
   ],
   "source": [
    "# Sorting the dataframe by Year column\n",
    "annual_df = annual_df.reset_index()\n",
    "annual_df.columns = annual_df.iloc[0]\n",
    "annual_df = annual_df.drop(0)\n",
    "annual_df = annual_df.sort_values(by = 'Year', ascending = True)\n",
    "annual_df = annual_df.reset_index()\n",
    "annual_df.drop(annual_df.columns[0], axis = 1, inplace = True)\n",
    "annual_df"
   ]
  },
  {
   "cell_type": "markdown",
   "metadata": {},
   "source": [
    "### 1.2 Exploratory Data Analysis"
   ]
  },
  {
   "cell_type": "code",
   "execution_count": 140,
   "metadata": {},
   "outputs": [
    {
     "data": {
      "image/png": "[encoded data removed]",
      "text/plain": [
       "<Figure size 1500x600 with 1 Axes>"
      ]
     },
     "metadata": {},
     "output_type": "display_data"
    }
   ],
   "source": [
    "yearAn = list(annual_df['Year'])\n",
    "amountAn = list(annual_df['Amount_in_tonnes'])\n",
    "\n",
    "plt.figure(figsize = (15, 6))\n",
    "lines = plt.plot(yearAn, amountAn)\n",
    "plt.setp(lines, color = (255/255, 100/255, 100/255), marker = 'o')\n",
    "plt.xlabel(\"Year\")\n",
    "plt.ylabel(\"Total amount (in million tonnes)\")\n",
    "plt.title(\"Total amount of food waste generated in Malaysia from 2009 to 2022\")\n",
    "plt.show()"
   ]
  },
  {
   "cell_type": "markdown",
   "metadata": {},
   "source": [
    "## 2.0 Modelling"
   ]
  },
  {
   "cell_type": "code",
   "execution_count": 141,
   "metadata": {},
   "outputs": [],
   "source": [
    "# Constant for the RFR model parameters\n",
    "RFR_num_estmtr = 100\n",
    "RFR_ran_st = 0"
   ]
  },
  {
   "cell_type": "markdown",
   "metadata": {},
   "source": [
    "### 2.1 Memory recall"
   ]
  },
  {
   "cell_type": "markdown",
   "metadata": {},
   "source": [
    "#### (a) All used for training and testing"
   ]
  },
  {
   "cell_type": "markdown",
   "metadata": {},
   "source": [
    "x_train = x_test = Year (2009 - 2022) <br>\n",
    "y_train = y_test = Amount_in_tonnes (2009 - 2022) <br>"
   ]
  },
  {
   "cell_type": "code",
   "execution_count": 142,
   "metadata": {},
   "outputs": [],
   "source": [
    "# Create the training and testing set\n",
    "x_train = annual_df.iloc[:, 0:1].values.astype(float)\n",
    "y_train = annual_df.iloc[:, 1:2].values.astype(float)\n",
    "x_test = x_train\n",
    "y_test = y_train"
   ]
  },
  {
   "cell_type": "code",
   "execution_count": 143,
   "metadata": {},
   "outputs": [],
   "source": [
    "# Feature scaling\n",
    "sc_X = StandardScaler()\n",
    "sc_Y = StandardScaler()\n",
    "X = sc_X.fit_transform(x_train)\n",
    "Y = sc_Y.fit_transform(y_train)\n",
    "Y = Y.ravel() # flatten y_train data"
   ]
  },
  {
   "cell_type": "code",
   "execution_count": 144,
   "metadata": {},
   "outputs": [],
   "source": [
    "# Create the RFR model\n",
    "RFRmodel_memRec1 = RandomForestRegressor(n_estimators = RFR_num_estmtr, random_state = RFR_ran_st)"
   ]
  },
  {
   "cell_type": "code",
   "execution_count": 145,
   "metadata": {},
   "outputs": [
    {
     "data": {
      "text/html": [
       "<style>#sk-container-id-13 {color: black;background-color: white;}#sk-container-id-13 pre{padding: 0;}#sk-container-id-13 div.sk-toggleable {background-color: white;}#sk-container-id-13 label.sk-toggleable__label {cursor: pointer;display: block;width: 100%;margin-bottom: 0;padding: 0.3em;box-sizing: border-box;text-align: center;}#sk-container-id-13 label.sk-toggleable__label-arrow:before {content: \"▸\";float: left;margin-right: 0.25em;color: #696969;}#sk-container-id-13 label.sk-toggleable__label-arrow:hover:before {color: black;}#sk-container-id-13 div.sk-estimator:hover label.sk-toggleable__label-arrow:before {color: black;}#sk-container-id-13 div.sk-toggleable__content {max-height: 0;max-width: 0;overflow: hidden;text-align: left;background-color: #f0f8ff;}#sk-container-id-13 div.sk-toggleable__content pre {margin: 0.2em;color: black;border-radius: 0.25em;background-color: #f0f8ff;}#sk-container-id-13 input.sk-toggleable__control:checked~div.sk-toggleable__content {max-height: 200px;max-width: 100%;overflow: auto;}#sk-container-id-13 input.sk-toggleable__control:checked~label.sk-toggleable__label-arrow:before {content: \"▾\";}#sk-container-id-13 div.sk-estimator input.sk-toggleable__control:checked~label.sk-toggleable__label {background-color: #d4ebff;}#sk-container-id-13 div.sk-label input.sk-toggleable__control:checked~label.sk-toggleable__label {background-color: #d4ebff;}#sk-container-id-13 input.sk-hidden--visually {border: 0;clip: rect(1px 1px 1px 1px);clip: rect(1px, 1px, 1px, 1px);height: 1px;margin: -1px;overflow: hidden;padding: 0;position: absolute;width: 1px;}#sk-container-id-13 div.sk-estimator {font-family: monospace;background-color: #f0f8ff;border: 1px dotted black;border-radius: 0.25em;box-sizing: border-box;margin-bottom: 0.5em;}#sk-container-id-13 div.sk-estimator:hover {background-color: #d4ebff;}#sk-container-id-13 div.sk-parallel-item::after {content: \"\";width: 100%;border-bottom: 1px solid gray;flex-grow: 1;}#sk-container-id-13 div.sk-label:hover label.sk-toggleable__label {background-color: #d4ebff;}#sk-container-id-13 div.sk-serial::before {content: \"\";position: absolute;border-left: 1px solid gray;box-sizing: border-box;top: 0;bottom: 0;left: 50%;z-index: 0;}#sk-container-id-13 div.sk-serial {display: flex;flex-direction: column;align-items: center;background-color: white;padding-right: 0.2em;padding-left: 0.2em;position: relative;}#sk-container-id-13 div.sk-item {position: relative;z-index: 1;}#sk-container-id-13 div.sk-parallel {display: flex;align-items: stretch;justify-content: center;background-color: white;position: relative;}#sk-container-id-13 div.sk-item::before, #sk-container-id-13 div.sk-parallel-item::before {content: \"\";position: absolute;border-left: 1px solid gray;box-sizing: border-box;top: 0;bottom: 0;left: 50%;z-index: -1;}#sk-container-id-13 div.sk-parallel-item {display: flex;flex-direction: column;z-index: 1;position: relative;background-color: white;}#sk-container-id-13 div.sk-parallel-item:first-child::after {align-self: flex-end;width: 50%;}#sk-container-id-13 div.sk-parallel-item:last-child::after {align-self: flex-start;width: 50%;}#sk-container-id-13 div.sk-parallel-item:only-child::after {width: 0;}#sk-container-id-13 div.sk-dashed-wrapped {border: 1px dashed gray;margin: 0 0.4em 0.5em 0.4em;box-sizing: border-box;padding-bottom: 0.4em;background-color: white;}#sk-container-id-13 div.sk-label label {font-family: monospace;font-weight: bold;display: inline-block;line-height: 1.2em;}#sk-container-id-13 div.sk-label-container {text-align: center;}#sk-container-id-13 div.sk-container {/* jupyter's `normalize.less` sets `[hidden] { display: none; }` but bootstrap.min.css set `[hidden] { display: none !important; }` so we also need the `!important` here to be able to override the default hidden behavior on the sphinx rendered scikit-learn.org. See: https://github.com/scikit-learn/scikit-learn/issues/21755 */display: inline-block !important;position: relative;}#sk-container-id-13 div.sk-text-repr-fallback {display: none;}</style><div id=\"sk-container-id-13\" class=\"sk-top-container\"><div class=\"sk-text-repr-fallback\"><pre>RandomForestRegressor(random_state=0)</pre><b>In a Jupyter environment, please rerun this cell to show the HTML representation or trust the notebook. <br />On GitHub, the HTML representation is unable to render, please try loading this page with nbviewer.org.</b></div><div class=\"sk-container\" hidden><div class=\"sk-item\"><div class=\"sk-estimator sk-toggleable\"><input class=\"sk-toggleable__control sk-hidden--visually\" id=\"sk-estimator-id-13\" type=\"checkbox\" checked><label for=\"sk-estimator-id-13\" class=\"sk-toggleable__label sk-toggleable__label-arrow\">RandomForestRegressor</label><div class=\"sk-toggleable__content\"><pre>RandomForestRegressor(random_state=0)</pre></div></div></div></div></div>"
      ],
      "text/plain": [
       "RandomForestRegressor(random_state=0)"
      ]
     },
     "execution_count": 145,
     "metadata": {},
     "output_type": "execute_result"
    }
   ],
   "source": [
    "# Train the model with training set\n",
    "RFRmodel_memRec1.fit(X, Y) "
   ]
  },
  {
   "cell_type": "code",
   "execution_count": 146,
   "metadata": {},
   "outputs": [
    {
     "data": {
      "text/plain": [
       "array([[ 305926.75],\n",
       "       [ 361937.15],\n",
       "       [ 581491.5 ],\n",
       "       [3075635.45],\n",
       "       [4830186.1 ],\n",
       "       [3814400.  ],\n",
       "       [4912894.8 ],\n",
       "       [5476628.4 ],\n",
       "       [5925827.2 ],\n",
       "       [6100826.72],\n",
       "       [6154022.05],\n",
       "       [6228177.32],\n",
       "       [6215968.04],\n",
       "       [6207828.07]])"
      ]
     },
     "execution_count": 146,
     "metadata": {},
     "output_type": "execute_result"
    }
   ],
   "source": [
    "# Make prediction with testing set\n",
    "memRec1_pred = sc_Y.inverse_transform(\n",
    "            RFRmodel_memRec1.predict(\n",
    "                sc_X.transform(x_test)\n",
    "            ).reshape(-1, 1)\n",
    "        )\n",
    "memRec1_pred"
   ]
  },
  {
   "cell_type": "code",
   "execution_count": 147,
   "metadata": {},
   "outputs": [
    {
     "name": "stdout",
     "output_type": "stream",
     "text": [
      "mean_absolute_error: 261566.64 tonnes\n",
      "root_mean_squared_error: 403103.37 tonnes\n",
      "mean_absolute_percentage_error: 19.39%\n"
     ]
    }
   ],
   "source": [
    "# Evaluate the model performance\n",
    "mae = mean_absolute_error(y_test, memRec1_pred)\n",
    "rmse = mean_squared_error(y_test, memRec1_pred, squared = False)\n",
    "mape = mean_absolute_percentage_error(y_test, memRec1_pred)\n",
    "\n",
    "print(\"mean_absolute_error: {:.2f} tonnes\".format(mae))\n",
    "print(\"root_mean_squared_error: {:.2f} tonnes\".format(rmse))\n",
    "print(\"mean_absolute_percentage_error: {:.2f}%\".format(mape * 100))"
   ]
  },
  {
   "cell_type": "code",
   "execution_count": 148,
   "metadata": {},
   "outputs": [
    {
     "data": {
      "image/png": "[encoded data removed]",
      "text/plain": [
       "<Figure size 1500x600 with 1 Axes>"
      ]
     },
     "metadata": {},
     "output_type": "display_data"
    }
   ],
   "source": [
    "# Visualize actual and predicted values\n",
    "plt.figure(figsize = (15, 6))\n",
    "plt.scatter(x_train, y_train, color = 'purple', label = 'Actual')\n",
    "plt.plot(x_test, memRec1_pred, color = 'orange', label = 'Predicted')\n",
    "plt.legend(loc = 'upper left', ncol = 2, bbox_to_anchor = (0., 1.))\n",
    "plt.title('Actual vs Predicted Total Amount of Food Waste in Malaysia')\n",
    "plt.xlabel('Year')\n",
    "plt.ylabel('Amount of food waste (in million tonnes)')\n",
    "plt.show()"
   ]
  },
  {
   "cell_type": "markdown",
   "metadata": {},
   "source": [
    "#### (b) All used for testing, except for training (excluding 2022)"
   ]
  },
  {
   "cell_type": "markdown",
   "metadata": {},
   "source": [
    "x_train = Year (2009 - 2021) <br>\n",
    "x_test = Year (2009 - 2022) <br>\n",
    "y_train = Amount_in_tonnes (2009 - 2021) <br>\n",
    "y_test = Amount_in_tonnes (2009 - 2022) <br>"
   ]
  },
  {
   "cell_type": "code",
   "execution_count": 149,
   "metadata": {},
   "outputs": [],
   "source": [
    "# Create the training and testing set\n",
    "x_train = annual_df.iloc[:13, 0:1].values.astype(float)\n",
    "y_train = annual_df.iloc[:13, 1:2].values.astype(float)\n",
    "x_test = annual_df.iloc[:, 0:1].values.astype(float)\n",
    "y_test = annual_df.iloc[:, 1:2].values.astype(float)"
   ]
  },
  {
   "cell_type": "code",
   "execution_count": 150,
   "metadata": {},
   "outputs": [],
   "source": [
    "# Feature scaling\n",
    "sc_X = StandardScaler()\n",
    "sc_Y = StandardScaler()\n",
    "X = sc_X.fit_transform(x_train)\n",
    "Y = sc_Y.fit_transform(y_train)\n",
    "Y = Y.ravel() # flatten y_train data"
   ]
  },
  {
   "cell_type": "code",
   "execution_count": 151,
   "metadata": {},
   "outputs": [],
   "source": [
    "# Create the RFR model\n",
    "RFRmodel_memRec2 = RandomForestRegressor(n_estimators = RFR_num_estmtr, random_state = RFR_ran_st)"
   ]
  },
  {
   "cell_type": "code",
   "execution_count": 152,
   "metadata": {},
   "outputs": [
    {
     "data": {
      "text/html": [
       "<style>#sk-container-id-14 {color: black;background-color: white;}#sk-container-id-14 pre{padding: 0;}#sk-container-id-14 div.sk-toggleable {background-color: white;}#sk-container-id-14 label.sk-toggleable__label {cursor: pointer;display: block;width: 100%;margin-bottom: 0;padding: 0.3em;box-sizing: border-box;text-align: center;}#sk-container-id-14 label.sk-toggleable__label-arrow:before {content: \"▸\";float: left;margin-right: 0.25em;color: #696969;}#sk-container-id-14 label.sk-toggleable__label-arrow:hover:before {color: black;}#sk-container-id-14 div.sk-estimator:hover label.sk-toggleable__label-arrow:before {color: black;}#sk-container-id-14 div.sk-toggleable__content {max-height: 0;max-width: 0;overflow: hidden;text-align: left;background-color: #f0f8ff;}#sk-container-id-14 div.sk-toggleable__content pre {margin: 0.2em;color: black;border-radius: 0.25em;background-color: #f0f8ff;}#sk-container-id-14 input.sk-toggleable__control:checked~div.sk-toggleable__content {max-height: 200px;max-width: 100%;overflow: auto;}#sk-container-id-14 input.sk-toggleable__control:checked~label.sk-toggleable__label-arrow:before {content: \"▾\";}#sk-container-id-14 div.sk-estimator input.sk-toggleable__control:checked~label.sk-toggleable__label {background-color: #d4ebff;}#sk-container-id-14 div.sk-label input.sk-toggleable__control:checked~label.sk-toggleable__label {background-color: #d4ebff;}#sk-container-id-14 input.sk-hidden--visually {border: 0;clip: rect(1px 1px 1px 1px);clip: rect(1px, 1px, 1px, 1px);height: 1px;margin: -1px;overflow: hidden;padding: 0;position: absolute;width: 1px;}#sk-container-id-14 div.sk-estimator {font-family: monospace;background-color: #f0f8ff;border: 1px dotted black;border-radius: 0.25em;box-sizing: border-box;margin-bottom: 0.5em;}#sk-container-id-14 div.sk-estimator:hover {background-color: #d4ebff;}#sk-container-id-14 div.sk-parallel-item::after {content: \"\";width: 100%;border-bottom: 1px solid gray;flex-grow: 1;}#sk-container-id-14 div.sk-label:hover label.sk-toggleable__label {background-color: #d4ebff;}#sk-container-id-14 div.sk-serial::before {content: \"\";position: absolute;border-left: 1px solid gray;box-sizing: border-box;top: 0;bottom: 0;left: 50%;z-index: 0;}#sk-container-id-14 div.sk-serial {display: flex;flex-direction: column;align-items: center;background-color: white;padding-right: 0.2em;padding-left: 0.2em;position: relative;}#sk-container-id-14 div.sk-item {position: relative;z-index: 1;}#sk-container-id-14 div.sk-parallel {display: flex;align-items: stretch;justify-content: center;background-color: white;position: relative;}#sk-container-id-14 div.sk-item::before, #sk-container-id-14 div.sk-parallel-item::before {content: \"\";position: absolute;border-left: 1px solid gray;box-sizing: border-box;top: 0;bottom: 0;left: 50%;z-index: -1;}#sk-container-id-14 div.sk-parallel-item {display: flex;flex-direction: column;z-index: 1;position: relative;background-color: white;}#sk-container-id-14 div.sk-parallel-item:first-child::after {align-self: flex-end;width: 50%;}#sk-container-id-14 div.sk-parallel-item:last-child::after {align-self: flex-start;width: 50%;}#sk-container-id-14 div.sk-parallel-item:only-child::after {width: 0;}#sk-container-id-14 div.sk-dashed-wrapped {border: 1px dashed gray;margin: 0 0.4em 0.5em 0.4em;box-sizing: border-box;padding-bottom: 0.4em;background-color: white;}#sk-container-id-14 div.sk-label label {font-family: monospace;font-weight: bold;display: inline-block;line-height: 1.2em;}#sk-container-id-14 div.sk-label-container {text-align: center;}#sk-container-id-14 div.sk-container {/* jupyter's `normalize.less` sets `[hidden] { display: none; }` but bootstrap.min.css set `[hidden] { display: none !important; }` so we also need the `!important` here to be able to override the default hidden behavior on the sphinx rendered scikit-learn.org. See: https://github.com/scikit-learn/scikit-learn/issues/21755 */display: inline-block !important;position: relative;}#sk-container-id-14 div.sk-text-repr-fallback {display: none;}</style><div id=\"sk-container-id-14\" class=\"sk-top-container\"><div class=\"sk-text-repr-fallback\"><pre>RandomForestRegressor(random_state=0)</pre><b>In a Jupyter environment, please rerun this cell to show the HTML representation or trust the notebook. <br />On GitHub, the HTML representation is unable to render, please try loading this page with nbviewer.org.</b></div><div class=\"sk-container\" hidden><div class=\"sk-item\"><div class=\"sk-estimator sk-toggleable\"><input class=\"sk-toggleable__control sk-hidden--visually\" id=\"sk-estimator-id-14\" type=\"checkbox\" checked><label for=\"sk-estimator-id-14\" class=\"sk-toggleable__label sk-toggleable__label-arrow\">RandomForestRegressor</label><div class=\"sk-toggleable__content\"><pre>RandomForestRegressor(random_state=0)</pre></div></div></div></div></div>"
      ],
      "text/plain": [
       "RandomForestRegressor(random_state=0)"
      ]
     },
     "execution_count": 152,
     "metadata": {},
     "output_type": "execute_result"
    }
   ],
   "source": [
    "# Train the model with training set\n",
    "RFRmodel_memRec2.fit(X, Y) "
   ]
  },
  {
   "cell_type": "code",
   "execution_count": 153,
   "metadata": {},
   "outputs": [
    {
     "data": {
      "text/plain": [
       "array([[ 279272.65],\n",
       "       [ 317461.9 ],\n",
       "       [1221653.  ],\n",
       "       [2988176.25],\n",
       "       [4662892.1 ],\n",
       "       [3839950.  ],\n",
       "       [4888250.  ],\n",
       "       [5508489.6 ],\n",
       "       [5920360.2 ],\n",
       "       [6102565.26],\n",
       "       [6156112.36],\n",
       "       [6225292.68],\n",
       "       [6212902.04],\n",
       "       [6212902.04]])"
      ]
     },
     "execution_count": 153,
     "metadata": {},
     "output_type": "execute_result"
    }
   ],
   "source": [
    "# Make prediction with testing set\n",
    "memRec2_pred = sc_Y.inverse_transform(\n",
    "            RFRmodel_memRec2.predict(\n",
    "                sc_X.transform(x_test)\n",
    "            ).reshape(-1, 1)\n",
    "        )\n",
    "memRec2_pred"
   ]
  },
  {
   "cell_type": "code",
   "execution_count": 154,
   "metadata": {},
   "outputs": [
    {
     "name": "stdout",
     "output_type": "stream",
     "text": [
      "mean_absolute_error: 325074.21 tonnes\n",
      "root_mean_squared_error: 496176.99 tonnes\n",
      "mean_absolute_percentage_error: 30.99%\n"
     ]
    }
   ],
   "source": [
    "# Evaluate the model performance\n",
    "mae = mean_absolute_error(y_test, memRec2_pred)\n",
    "rmse = mean_squared_error(y_test, memRec2_pred, squared = False)\n",
    "mape = mean_absolute_percentage_error(y_test, memRec2_pred)\n",
    "\n",
    "print(\"mean_absolute_error: {:.2f} tonnes\".format(mae))\n",
    "print(\"root_mean_squared_error: {:.2f} tonnes\".format(rmse))\n",
    "print(\"mean_absolute_percentage_error: {:.2f}%\".format(mape * 100))"
   ]
  },
  {
   "cell_type": "code",
   "execution_count": 155,
   "metadata": {},
   "outputs": [
    {
     "data": {
      "image/png": "[encoded data removed]",
      "text/plain": [
       "<Figure size 1500x600 with 1 Axes>"
      ]
     },
     "metadata": {},
     "output_type": "display_data"
    }
   ],
   "source": [
    "# Visualize actual and predicted values\n",
    "plt.figure(figsize = (15, 6))\n",
    "plt.scatter(x_train, y_train, color = 'purple', label = 'Actual')\n",
    "plt.plot(x_test, memRec2_pred, color = 'orange', label = 'Predicted')\n",
    "plt.legend(loc = 'upper left', ncol = 2, bbox_to_anchor = (0., 1.))\n",
    "plt.title('Actual vs Predicted Total Amount of Food Waste in Malaysia')\n",
    "plt.xlabel('Year')\n",
    "plt.ylabel('Amount of food waste (in million tonnes)')\n",
    "plt.show()"
   ]
  },
  {
   "cell_type": "markdown",
   "metadata": {},
   "source": [
    "### 2.2 Hold-out"
   ]
  },
  {
   "cell_type": "markdown",
   "metadata": {},
   "source": [
    "#### (a) 80% training to 20% testing"
   ]
  },
  {
   "cell_type": "code",
   "execution_count": 156,
   "metadata": {},
   "outputs": [],
   "source": [
    "# Prepare the datset to be split\n",
    "x = annual_df.iloc[:, 0:1].values.astype(float)\n",
    "y = annual_df.iloc[:, 1:2].values.astype(float)"
   ]
  },
  {
   "cell_type": "code",
   "execution_count": 157,
   "metadata": {},
   "outputs": [],
   "source": [
    "# Split the data to selected hold-out ratio\n",
    "x_train, x_test, y_train, y_test = train_test_split(x, y, test_size = 0.2, shuffle = False)\n",
    "y_train = y_train.ravel()"
   ]
  },
  {
   "cell_type": "code",
   "execution_count": 158,
   "metadata": {},
   "outputs": [],
   "source": [
    "# Create the RFR model\n",
    "RFRmodel_hout1 = RandomForestRegressor(n_estimators = RFR_num_estmtr, random_state = RFR_ran_st)"
   ]
  },
  {
   "cell_type": "code",
   "execution_count": 159,
   "metadata": {},
   "outputs": [
    {
     "data": {
      "text/html": [
       "<style>#sk-container-id-15 {color: black;background-color: white;}#sk-container-id-15 pre{padding: 0;}#sk-container-id-15 div.sk-toggleable {background-color: white;}#sk-container-id-15 label.sk-toggleable__label {cursor: pointer;display: block;width: 100%;margin-bottom: 0;padding: 0.3em;box-sizing: border-box;text-align: center;}#sk-container-id-15 label.sk-toggleable__label-arrow:before {content: \"▸\";float: left;margin-right: 0.25em;color: #696969;}#sk-container-id-15 label.sk-toggleable__label-arrow:hover:before {color: black;}#sk-container-id-15 div.sk-estimator:hover label.sk-toggleable__label-arrow:before {color: black;}#sk-container-id-15 div.sk-toggleable__content {max-height: 0;max-width: 0;overflow: hidden;text-align: left;background-color: #f0f8ff;}#sk-container-id-15 div.sk-toggleable__content pre {margin: 0.2em;color: black;border-radius: 0.25em;background-color: #f0f8ff;}#sk-container-id-15 input.sk-toggleable__control:checked~div.sk-toggleable__content {max-height: 200px;max-width: 100%;overflow: auto;}#sk-container-id-15 input.sk-toggleable__control:checked~label.sk-toggleable__label-arrow:before {content: \"▾\";}#sk-container-id-15 div.sk-estimator input.sk-toggleable__control:checked~label.sk-toggleable__label {background-color: #d4ebff;}#sk-container-id-15 div.sk-label input.sk-toggleable__control:checked~label.sk-toggleable__label {background-color: #d4ebff;}#sk-container-id-15 input.sk-hidden--visually {border: 0;clip: rect(1px 1px 1px 1px);clip: rect(1px, 1px, 1px, 1px);height: 1px;margin: -1px;overflow: hidden;padding: 0;position: absolute;width: 1px;}#sk-container-id-15 div.sk-estimator {font-family: monospace;background-color: #f0f8ff;border: 1px dotted black;border-radius: 0.25em;box-sizing: border-box;margin-bottom: 0.5em;}#sk-container-id-15 div.sk-estimator:hover {background-color: #d4ebff;}#sk-container-id-15 div.sk-parallel-item::after {content: \"\";width: 100%;border-bottom: 1px solid gray;flex-grow: 1;}#sk-container-id-15 div.sk-label:hover label.sk-toggleable__label {background-color: #d4ebff;}#sk-container-id-15 div.sk-serial::before {content: \"\";position: absolute;border-left: 1px solid gray;box-sizing: border-box;top: 0;bottom: 0;left: 50%;z-index: 0;}#sk-container-id-15 div.sk-serial {display: flex;flex-direction: column;align-items: center;background-color: white;padding-right: 0.2em;padding-left: 0.2em;position: relative;}#sk-container-id-15 div.sk-item {position: relative;z-index: 1;}#sk-container-id-15 div.sk-parallel {display: flex;align-items: stretch;justify-content: center;background-color: white;position: relative;}#sk-container-id-15 div.sk-item::before, #sk-container-id-15 div.sk-parallel-item::before {content: \"\";position: absolute;border-left: 1px solid gray;box-sizing: border-box;top: 0;bottom: 0;left: 50%;z-index: -1;}#sk-container-id-15 div.sk-parallel-item {display: flex;flex-direction: column;z-index: 1;position: relative;background-color: white;}#sk-container-id-15 div.sk-parallel-item:first-child::after {align-self: flex-end;width: 50%;}#sk-container-id-15 div.sk-parallel-item:last-child::after {align-self: flex-start;width: 50%;}#sk-container-id-15 div.sk-parallel-item:only-child::after {width: 0;}#sk-container-id-15 div.sk-dashed-wrapped {border: 1px dashed gray;margin: 0 0.4em 0.5em 0.4em;box-sizing: border-box;padding-bottom: 0.4em;background-color: white;}#sk-container-id-15 div.sk-label label {font-family: monospace;font-weight: bold;display: inline-block;line-height: 1.2em;}#sk-container-id-15 div.sk-label-container {text-align: center;}#sk-container-id-15 div.sk-container {/* jupyter's `normalize.less` sets `[hidden] { display: none; }` but bootstrap.min.css set `[hidden] { display: none !important; }` so we also need the `!important` here to be able to override the default hidden behavior on the sphinx rendered scikit-learn.org. See: https://github.com/scikit-learn/scikit-learn/issues/21755 */display: inline-block !important;position: relative;}#sk-container-id-15 div.sk-text-repr-fallback {display: none;}</style><div id=\"sk-container-id-15\" class=\"sk-top-container\"><div class=\"sk-text-repr-fallback\"><pre>RandomForestRegressor(random_state=0)</pre><b>In a Jupyter environment, please rerun this cell to show the HTML representation or trust the notebook. <br />On GitHub, the HTML representation is unable to render, please try loading this page with nbviewer.org.</b></div><div class=\"sk-container\" hidden><div class=\"sk-item\"><div class=\"sk-estimator sk-toggleable\"><input class=\"sk-toggleable__control sk-hidden--visually\" id=\"sk-estimator-id-15\" type=\"checkbox\" checked><label for=\"sk-estimator-id-15\" class=\"sk-toggleable__label sk-toggleable__label-arrow\">RandomForestRegressor</label><div class=\"sk-toggleable__content\"><pre>RandomForestRegressor(random_state=0)</pre></div></div></div></div></div>"
      ],
      "text/plain": [
       "RandomForestRegressor(random_state=0)"
      ]
     },
     "execution_count": 159,
     "metadata": {},
     "output_type": "execute_result"
    }
   ],
   "source": [
    "# Train the model with training set\n",
    "RFRmodel_hout1.fit(x_train, y_train) "
   ]
  },
  {
   "cell_type": "code",
   "execution_count": 160,
   "metadata": {},
   "outputs": [
    {
     "data": {
      "text/plain": [
       "array([6142749.6, 6142749.6, 6142749.6])"
      ]
     },
     "execution_count": 160,
     "metadata": {},
     "output_type": "execute_result"
    }
   ],
   "source": [
    "# Make prediction with testing set\n",
    "hout1_pred = RFRmodel_hout1.predict(x_test)\n",
    "hout1_pred"
   ]
  },
  {
   "cell_type": "code",
   "execution_count": 161,
   "metadata": {},
   "outputs": [
    {
     "name": "stdout",
     "output_type": "stream",
     "text": [
      "mean_absolute_error: 73770.73 tonnes\n",
      "root_mean_squared_error: 75186.70 tonnes\n",
      "mean_absolute_percentage_error: 1.19%\n"
     ]
    }
   ],
   "source": [
    "# Evaluate the model performance\n",
    "mae = mean_absolute_error(y_test, hout1_pred)\n",
    "rmse = mean_squared_error(y_test, hout1_pred, squared = False)\n",
    "mape = mean_absolute_percentage_error(y_test, hout1_pred)\n",
    "\n",
    "print(\"mean_absolute_error: {:.2f} tonnes\".format(mae))\n",
    "print(\"root_mean_squared_error: {:.2f} tonnes\".format(rmse))\n",
    "print(\"mean_absolute_percentage_error: {:.2f}%\".format(mape * 100))"
   ]
  },
  {
   "cell_type": "markdown",
   "metadata": {},
   "source": [
    "#### (a) 90% training to 10% testing"
   ]
  },
  {
   "cell_type": "code",
   "execution_count": 162,
   "metadata": {},
   "outputs": [],
   "source": [
    "# Prepare the datset to be split\n",
    "x = annual_df.iloc[:, 0:1].values.astype(float)\n",
    "y = annual_df.iloc[:, 1:2].values.astype(float)"
   ]
  },
  {
   "cell_type": "code",
   "execution_count": 163,
   "metadata": {},
   "outputs": [],
   "source": [
    "# Split the data to selected hold-out ratio\n",
    "x_train, x_test, y_train, y_test = train_test_split(x, y, test_size = 0.1, shuffle = False)\n",
    "y_train = y_train.ravel()"
   ]
  },
  {
   "cell_type": "code",
   "execution_count": 164,
   "metadata": {},
   "outputs": [],
   "source": [
    "# Create the RFR model\n",
    "RFRmodel_hout2 = RandomForestRegressor(n_estimators = RFR_num_estmtr, random_state = RFR_ran_st)"
   ]
  },
  {
   "cell_type": "code",
   "execution_count": 165,
   "metadata": {},
   "outputs": [
    {
     "data": {
      "text/html": [
       "<style>#sk-container-id-16 {color: black;background-color: white;}#sk-container-id-16 pre{padding: 0;}#sk-container-id-16 div.sk-toggleable {background-color: white;}#sk-container-id-16 label.sk-toggleable__label {cursor: pointer;display: block;width: 100%;margin-bottom: 0;padding: 0.3em;box-sizing: border-box;text-align: center;}#sk-container-id-16 label.sk-toggleable__label-arrow:before {content: \"▸\";float: left;margin-right: 0.25em;color: #696969;}#sk-container-id-16 label.sk-toggleable__label-arrow:hover:before {color: black;}#sk-container-id-16 div.sk-estimator:hover label.sk-toggleable__label-arrow:before {color: black;}#sk-container-id-16 div.sk-toggleable__content {max-height: 0;max-width: 0;overflow: hidden;text-align: left;background-color: #f0f8ff;}#sk-container-id-16 div.sk-toggleable__content pre {margin: 0.2em;color: black;border-radius: 0.25em;background-color: #f0f8ff;}#sk-container-id-16 input.sk-toggleable__control:checked~div.sk-toggleable__content {max-height: 200px;max-width: 100%;overflow: auto;}#sk-container-id-16 input.sk-toggleable__control:checked~label.sk-toggleable__label-arrow:before {content: \"▾\";}#sk-container-id-16 div.sk-estimator input.sk-toggleable__control:checked~label.sk-toggleable__label {background-color: #d4ebff;}#sk-container-id-16 div.sk-label input.sk-toggleable__control:checked~label.sk-toggleable__label {background-color: #d4ebff;}#sk-container-id-16 input.sk-hidden--visually {border: 0;clip: rect(1px 1px 1px 1px);clip: rect(1px, 1px, 1px, 1px);height: 1px;margin: -1px;overflow: hidden;padding: 0;position: absolute;width: 1px;}#sk-container-id-16 div.sk-estimator {font-family: monospace;background-color: #f0f8ff;border: 1px dotted black;border-radius: 0.25em;box-sizing: border-box;margin-bottom: 0.5em;}#sk-container-id-16 div.sk-estimator:hover {background-color: #d4ebff;}#sk-container-id-16 div.sk-parallel-item::after {content: \"\";width: 100%;border-bottom: 1px solid gray;flex-grow: 1;}#sk-container-id-16 div.sk-label:hover label.sk-toggleable__label {background-color: #d4ebff;}#sk-container-id-16 div.sk-serial::before {content: \"\";position: absolute;border-left: 1px solid gray;box-sizing: border-box;top: 0;bottom: 0;left: 50%;z-index: 0;}#sk-container-id-16 div.sk-serial {display: flex;flex-direction: column;align-items: center;background-color: white;padding-right: 0.2em;padding-left: 0.2em;position: relative;}#sk-container-id-16 div.sk-item {position: relative;z-index: 1;}#sk-container-id-16 div.sk-parallel {display: flex;align-items: stretch;justify-content: center;background-color: white;position: relative;}#sk-container-id-16 div.sk-item::before, #sk-container-id-16 div.sk-parallel-item::before {content: \"\";position: absolute;border-left: 1px solid gray;box-sizing: border-box;top: 0;bottom: 0;left: 50%;z-index: -1;}#sk-container-id-16 div.sk-parallel-item {display: flex;flex-direction: column;z-index: 1;position: relative;background-color: white;}#sk-container-id-16 div.sk-parallel-item:first-child::after {align-self: flex-end;width: 50%;}#sk-container-id-16 div.sk-parallel-item:last-child::after {align-self: flex-start;width: 50%;}#sk-container-id-16 div.sk-parallel-item:only-child::after {width: 0;}#sk-container-id-16 div.sk-dashed-wrapped {border: 1px dashed gray;margin: 0 0.4em 0.5em 0.4em;box-sizing: border-box;padding-bottom: 0.4em;background-color: white;}#sk-container-id-16 div.sk-label label {font-family: monospace;font-weight: bold;display: inline-block;line-height: 1.2em;}#sk-container-id-16 div.sk-label-container {text-align: center;}#sk-container-id-16 div.sk-container {/* jupyter's `normalize.less` sets `[hidden] { display: none; }` but bootstrap.min.css set `[hidden] { display: none !important; }` so we also need the `!important` here to be able to override the default hidden behavior on the sphinx rendered scikit-learn.org. See: https://github.com/scikit-learn/scikit-learn/issues/21755 */display: inline-block !important;position: relative;}#sk-container-id-16 div.sk-text-repr-fallback {display: none;}</style><div id=\"sk-container-id-16\" class=\"sk-top-container\"><div class=\"sk-text-repr-fallback\"><pre>RandomForestRegressor(random_state=0)</pre><b>In a Jupyter environment, please rerun this cell to show the HTML representation or trust the notebook. <br />On GitHub, the HTML representation is unable to render, please try loading this page with nbviewer.org.</b></div><div class=\"sk-container\" hidden><div class=\"sk-item\"><div class=\"sk-estimator sk-toggleable\"><input class=\"sk-toggleable__control sk-hidden--visually\" id=\"sk-estimator-id-16\" type=\"checkbox\" checked><label for=\"sk-estimator-id-16\" class=\"sk-toggleable__label sk-toggleable__label-arrow\">RandomForestRegressor</label><div class=\"sk-toggleable__content\"><pre>RandomForestRegressor(random_state=0)</pre></div></div></div></div></div>"
      ],
      "text/plain": [
       "RandomForestRegressor(random_state=0)"
      ]
     },
     "execution_count": 165,
     "metadata": {},
     "output_type": "execute_result"
    }
   ],
   "source": [
    "# Train the model with training set\n",
    "RFRmodel_hout2.fit(x_train, y_train) "
   ]
  },
  {
   "cell_type": "code",
   "execution_count": 166,
   "metadata": {},
   "outputs": [
    {
     "data": {
      "text/plain": [
       "array([6220807.06, 6220807.06])"
      ]
     },
     "execution_count": 166,
     "metadata": {},
     "output_type": "execute_result"
    }
   ],
   "source": [
    "# Make prediction with testing set\n",
    "hout2_pred = RFRmodel_hout2.predict(x_test)\n",
    "hout2_pred"
   ]
  },
  {
   "cell_type": "code",
   "execution_count": 167,
   "metadata": {},
   "outputs": [
    {
     "name": "stdout",
     "output_type": "stream",
     "text": [
      "mean_absolute_error: 14529.56 tonnes\n",
      "root_mean_squared_error: 14585.61 tonnes\n",
      "mean_absolute_percentage_error: 0.23%\n"
     ]
    }
   ],
   "source": [
    "# Evaluate the model performance\n",
    "mae = mean_absolute_error(y_test, hout2_pred)\n",
    "rmse = mean_squared_error(y_test, hout2_pred, squared = False)\n",
    "mape = mean_absolute_percentage_error(y_test, hout2_pred)\n",
    "\n",
    "print(\"mean_absolute_error: {:.2f} tonnes\".format(mae))\n",
    "print(\"root_mean_squared_error: {:.2f} tonnes\".format(rmse))\n",
    "print(\"mean_absolute_percentage_error: {:.2f}%\".format(mape * 100))"
   ]
  },
  {
   "cell_type": "markdown",
   "metadata": {},
   "source": [
    "#### (c)(i) Test random_state {1 - 100}"
   ]
  },
  {
   "cell_type": "code",
   "execution_count": 168,
   "metadata": {},
   "outputs": [],
   "source": [
    "# Create the RFR model\n",
    "RFRmodel_hout3 = RandomForestRegressor(n_estimators = RFR_num_estmtr, random_state = RFR_ran_st)"
   ]
  },
  {
   "cell_type": "code",
   "execution_count": 169,
   "metadata": {},
   "outputs": [],
   "source": [
    "# For (c)(ii)\n",
    "y_pred_dict = dict()\n",
    "mae_dict = dict()\n",
    "rmse_dict = dict()\n",
    "mape_dict = dict()\n",
    "\n",
    "# Find overall mean from model 1 until model 100\n",
    "mae_mean = 0\n",
    "rmse_mean = 0\n",
    "mape_mean = 0\n",
    "\n",
    "for a in range(1, 101):\n",
    "    # Split the data\n",
    "    x_train, x_test, y_train, y_test = train_test_split(x, y, test_size = 0.2, shuffle = True, random_state = a)\n",
    "    y_train = y_train.ravel()\n",
    "    \n",
    "    # Train the model\n",
    "    RFRmodel_hout3.fit(x_train, y_train)\n",
    "    \n",
    "    # Test the model\n",
    "    y_pred = RFRmodel_hout3.predict(x_test)\n",
    "    y_pred_dict[a] = y_pred\n",
    "    \n",
    "    # Evaluate the model\n",
    "    mae = mean_absolute_error(y_test, y_pred)\n",
    "    mae_dict[a] = mae\n",
    "    mae_mean += mae\n",
    "    rmse = mean_squared_error(y_test, y_pred, squared = False)\n",
    "    rmse_dict[a] = rmse\n",
    "    rmse_mean += rmse\n",
    "    mape = mean_absolute_percentage_error(y_test, y_pred)\n",
    "    mape_dict[a] = mape\n",
    "    mape_mean += mape"
   ]
  },
  {
   "cell_type": "code",
   "execution_count": 170,
   "metadata": {},
   "outputs": [
    {
     "name": "stdout",
     "output_type": "stream",
     "text": [
      "Mean of Mean Absolute Error from model 1 to model 100: 796582.90 tonnes\n",
      "Mean of Root Mean Squared Error from model 1 to model 100: 1033209.03 tonnes\n",
      "Mean of Mean Absolute Percentage Error from model 1 to model 100: 97.49%\n"
     ]
    }
   ],
   "source": [
    "print(\"Mean of Mean Absolute Error from model 1 to model 100: {:.2f} tonnes\".format(mae_mean / 100))\n",
    "print(\"Mean of Root Mean Squared Error from model 1 to model 100: {:.2f} tonnes\".format(rmse_mean / 100))\n",
    "print(\"Mean of Mean Absolute Percentage Error from model 1 to model 100: {:.2f}%\".format((mape_mean / 100) * 100))"
   ]
  },
  {
   "cell_type": "markdown",
   "metadata": {},
   "source": [
    "#### (c)(ii) Test random_state with  lowest value"
   ]
  },
  {
   "cell_type": "code",
   "execution_count": 171,
   "metadata": {},
   "outputs": [
    {
     "name": "stdout",
     "output_type": "stream",
     "text": [
      "12\n",
      "12\n",
      "12\n"
     ]
    }
   ],
   "source": [
    "# Get key with min value.\n",
    "mae_min = min(mae_dict, key = mae_dict.get)\n",
    "rmse_min = min(rmse_dict, key = rmse_dict.get)\n",
    "mape_min = min(mape_dict, key = mape_dict.get)\n",
    "\n",
    "print(mae_min)\n",
    "print(rmse_min)\n",
    "print(mape_min)"
   ]
  },
  {
   "cell_type": "code",
   "execution_count": 172,
   "metadata": {},
   "outputs": [],
   "source": [
    "# Prepare the datset to be split\n",
    "x = annual_df.iloc[:, 0:1].values.astype(float)\n",
    "y = annual_df.iloc[:, 1:2].values.astype(float)"
   ]
  },
  {
   "cell_type": "code",
   "execution_count": 173,
   "metadata": {},
   "outputs": [],
   "source": [
    "# Split the data to selected hold-out ratio\n",
    "x_train, x_test, y_train, y_test = train_test_split(x, y, test_size = 0.2, shuffle = False)\n",
    "y_train = y_train.ravel()"
   ]
  },
  {
   "cell_type": "code",
   "execution_count": 174,
   "metadata": {},
   "outputs": [],
   "source": [
    "# Create the RFR model\n",
    "RFRmodel_hout4 = RandomForestRegressor(n_estimators = RFR_num_estmtr, random_state = RFR_ran_st)"
   ]
  },
  {
   "cell_type": "code",
   "execution_count": 175,
   "metadata": {},
   "outputs": [
    {
     "data": {
      "text/html": [
       "<style>#sk-container-id-17 {color: black;background-color: white;}#sk-container-id-17 pre{padding: 0;}#sk-container-id-17 div.sk-toggleable {background-color: white;}#sk-container-id-17 label.sk-toggleable__label {cursor: pointer;display: block;width: 100%;margin-bottom: 0;padding: 0.3em;box-sizing: border-box;text-align: center;}#sk-container-id-17 label.sk-toggleable__label-arrow:before {content: \"▸\";float: left;margin-right: 0.25em;color: #696969;}#sk-container-id-17 label.sk-toggleable__label-arrow:hover:before {color: black;}#sk-container-id-17 div.sk-estimator:hover label.sk-toggleable__label-arrow:before {color: black;}#sk-container-id-17 div.sk-toggleable__content {max-height: 0;max-width: 0;overflow: hidden;text-align: left;background-color: #f0f8ff;}#sk-container-id-17 div.sk-toggleable__content pre {margin: 0.2em;color: black;border-radius: 0.25em;background-color: #f0f8ff;}#sk-container-id-17 input.sk-toggleable__control:checked~div.sk-toggleable__content {max-height: 200px;max-width: 100%;overflow: auto;}#sk-container-id-17 input.sk-toggleable__control:checked~label.sk-toggleable__label-arrow:before {content: \"▾\";}#sk-container-id-17 div.sk-estimator input.sk-toggleable__control:checked~label.sk-toggleable__label {background-color: #d4ebff;}#sk-container-id-17 div.sk-label input.sk-toggleable__control:checked~label.sk-toggleable__label {background-color: #d4ebff;}#sk-container-id-17 input.sk-hidden--visually {border: 0;clip: rect(1px 1px 1px 1px);clip: rect(1px, 1px, 1px, 1px);height: 1px;margin: -1px;overflow: hidden;padding: 0;position: absolute;width: 1px;}#sk-container-id-17 div.sk-estimator {font-family: monospace;background-color: #f0f8ff;border: 1px dotted black;border-radius: 0.25em;box-sizing: border-box;margin-bottom: 0.5em;}#sk-container-id-17 div.sk-estimator:hover {background-color: #d4ebff;}#sk-container-id-17 div.sk-parallel-item::after {content: \"\";width: 100%;border-bottom: 1px solid gray;flex-grow: 1;}#sk-container-id-17 div.sk-label:hover label.sk-toggleable__label {background-color: #d4ebff;}#sk-container-id-17 div.sk-serial::before {content: \"\";position: absolute;border-left: 1px solid gray;box-sizing: border-box;top: 0;bottom: 0;left: 50%;z-index: 0;}#sk-container-id-17 div.sk-serial {display: flex;flex-direction: column;align-items: center;background-color: white;padding-right: 0.2em;padding-left: 0.2em;position: relative;}#sk-container-id-17 div.sk-item {position: relative;z-index: 1;}#sk-container-id-17 div.sk-parallel {display: flex;align-items: stretch;justify-content: center;background-color: white;position: relative;}#sk-container-id-17 div.sk-item::before, #sk-container-id-17 div.sk-parallel-item::before {content: \"\";position: absolute;border-left: 1px solid gray;box-sizing: border-box;top: 0;bottom: 0;left: 50%;z-index: -1;}#sk-container-id-17 div.sk-parallel-item {display: flex;flex-direction: column;z-index: 1;position: relative;background-color: white;}#sk-container-id-17 div.sk-parallel-item:first-child::after {align-self: flex-end;width: 50%;}#sk-container-id-17 div.sk-parallel-item:last-child::after {align-self: flex-start;width: 50%;}#sk-container-id-17 div.sk-parallel-item:only-child::after {width: 0;}#sk-container-id-17 div.sk-dashed-wrapped {border: 1px dashed gray;margin: 0 0.4em 0.5em 0.4em;box-sizing: border-box;padding-bottom: 0.4em;background-color: white;}#sk-container-id-17 div.sk-label label {font-family: monospace;font-weight: bold;display: inline-block;line-height: 1.2em;}#sk-container-id-17 div.sk-label-container {text-align: center;}#sk-container-id-17 div.sk-container {/* jupyter's `normalize.less` sets `[hidden] { display: none; }` but bootstrap.min.css set `[hidden] { display: none !important; }` so we also need the `!important` here to be able to override the default hidden behavior on the sphinx rendered scikit-learn.org. See: https://github.com/scikit-learn/scikit-learn/issues/21755 */display: inline-block !important;position: relative;}#sk-container-id-17 div.sk-text-repr-fallback {display: none;}</style><div id=\"sk-container-id-17\" class=\"sk-top-container\"><div class=\"sk-text-repr-fallback\"><pre>RandomForestRegressor(random_state=0)</pre><b>In a Jupyter environment, please rerun this cell to show the HTML representation or trust the notebook. <br />On GitHub, the HTML representation is unable to render, please try loading this page with nbviewer.org.</b></div><div class=\"sk-container\" hidden><div class=\"sk-item\"><div class=\"sk-estimator sk-toggleable\"><input class=\"sk-toggleable__control sk-hidden--visually\" id=\"sk-estimator-id-17\" type=\"checkbox\" checked><label for=\"sk-estimator-id-17\" class=\"sk-toggleable__label sk-toggleable__label-arrow\">RandomForestRegressor</label><div class=\"sk-toggleable__content\"><pre>RandomForestRegressor(random_state=0)</pre></div></div></div></div></div>"
      ],
      "text/plain": [
       "RandomForestRegressor(random_state=0)"
      ]
     },
     "execution_count": 175,
     "metadata": {},
     "output_type": "execute_result"
    }
   ],
   "source": [
    "# Train the model with training set\n",
    "RFRmodel_hout4.fit(x_train, y_train) "
   ]
  },
  {
   "cell_type": "code",
   "execution_count": 176,
   "metadata": {},
   "outputs": [
    {
     "data": {
      "text/plain": [
       "array([6142749.6, 6142749.6, 6142749.6])"
      ]
     },
     "execution_count": 176,
     "metadata": {},
     "output_type": "execute_result"
    }
   ],
   "source": [
    "# Make prediction with testing set\n",
    "hout4_pred = RFRmodel_hout4.predict(x_test)\n",
    "hout4_pred"
   ]
  },
  {
   "cell_type": "code",
   "execution_count": 177,
   "metadata": {},
   "outputs": [
    {
     "name": "stdout",
     "output_type": "stream",
     "text": [
      "mean_absolute_error: 73770.73 tonnes\n",
      "root_mean_squared_error: 75186.70 tonnes\n",
      "mean_absolute_percentage_error: 1.19%\n"
     ]
    }
   ],
   "source": [
    "# Evaluate the model performance\n",
    "mae = mean_absolute_error(y_test, hout4_pred)\n",
    "rmse = mean_squared_error(y_test, hout4_pred, squared = False)\n",
    "mape = mean_absolute_percentage_error(y_test, hout4_pred)\n",
    "\n",
    "print(\"mean_absolute_error: {:.2f} tonnes\".format(mae))\n",
    "print(\"root_mean_squared_error: {:.2f} tonnes\".format(rmse))\n",
    "print(\"mean_absolute_percentage_error: {:.2f}%\".format(mape * 100))"
   ]
  },
  {
   "cell_type": "markdown",
   "metadata": {},
   "source": [
    "### 2.3 K-fold cross validation"
   ]
  },
  {
   "cell_type": "code",
   "execution_count": 190,
   "metadata": {},
   "outputs": [],
   "source": [
    "# Prepare the datset to be split\n",
    "x = annual_df.iloc[:, 0:1].values.astype(float)\n",
    "y = annual_df.iloc[:, 1:2].values.astype(float)\n",
    "y = y.ravel() # flatten y (dependent) data"
   ]
  },
  {
   "cell_type": "code",
   "execution_count": 191,
   "metadata": {},
   "outputs": [],
   "source": [
    "# Create the RFR model\n",
    "RFRmodel_kfold = RandomForestRegressor(n_estimators = RFR_num_estmtr, random_state = RFR_ran_st)"
   ]
  },
  {
   "cell_type": "code",
   "execution_count": 192,
   "metadata": {},
   "outputs": [],
   "source": [
    "# Create the k-fold object\n",
    "kfold = KFold(n_splits = 7, shuffle = False)"
   ]
  },
  {
   "cell_type": "code",
   "execution_count": 193,
   "metadata": {},
   "outputs": [
    {
     "name": "stdout",
     "output_type": "stream",
     "text": [
      "The mean absolute error score for fold 1: -1525534.8\n",
      "The mean absolute error score for fold 2: -333000.32500000007\n",
      "The mean absolute error score for fold 3: -2253615.9749999996\n",
      "The mean absolute error score for fold 4: -933006.9000000001\n",
      "The mean absolute error score for fold 5: -335771.65500000026\n",
      "The mean absolute error score for fold 6: -94074.5\n",
      "The mean absolute error score for fold 7: -14529.55999999959\n",
      "The average of mean absolute error for all 7 models is 784219.10 tonnes\n"
     ]
    }
   ],
   "source": [
    "results1 = cross_validate(RFRmodel_kfold, x, y, scoring = 'neg_mean_absolute_error', cv = kfold)\n",
    "\n",
    "for a in range(len(results1['test_score'])):\n",
    "    print(f\"The mean absolute error score for fold %d: {results1['test_score'][a]}\" % (a + 1))\n",
    "\n",
    "print(f\"The average of mean absolute error for all 7 models is %.2f tonnes\" % mean(absolute(results1['test_score'])))"
   ]
  },
  {
   "cell_type": "code",
   "execution_count": 194,
   "metadata": {},
   "outputs": [
    {
     "name": "stdout",
     "output_type": "stream",
     "text": [
      "The root mean squared error score for fold 1: -1526124.8124145318\n",
      "The root mean squared error score for fold 2: -333311.4928274621\n",
      "The root mean squared error score for fold 3: -2263071.580261411\n",
      "The root mean squared error score for fold 4: -1171330.3110216607\n",
      "The root mean squared error score for fold 5: -443799.93264943856\n",
      "The root mean squared error score for fold 6: -96881.55611410258\n",
      "The root mean squared error score for fold 7: -14585.613461338817\n",
      "The average of root mean squared error for all 7 models is 835586.47 tonnes\n"
     ]
    }
   ],
   "source": [
    "results2 = cross_validate(RFRmodel_kfold, x, y, scoring = 'neg_root_mean_squared_error', cv = kfold)\n",
    "\n",
    "for a in range(len(results2['test_score'])):\n",
    "    print(f\"The root mean squared error score for fold %d: {results2['test_score'][a]}\" % (a + 1))\n",
    "\n",
    "print(f\"The average of root mean squared error for all 7 models is %.2f tonnes\" % mean(absolute(results2['test_score'])))"
   ]
  },
  {
   "cell_type": "code",
   "execution_count": 195,
   "metadata": {},
   "outputs": [
    {
     "name": "stdout",
     "output_type": "stream",
     "text": [
      "The mean absolute percentage error score for fold 1: -7.531867602229749\n",
      "The mean absolute percentage error score for fold 2: -0.5142325018011287\n",
      "The mean absolute percentage error score for fold 3: -0.5751889634703196\n",
      "The mean absolute percentage error score for fold 4: -0.17035611937021236\n",
      "The mean absolute percentage error score for fold 5: -0.055149148341968914\n",
      "The mean absolute percentage error score for fold 6: -0.015151798925485412\n",
      "The mean absolute percentage error score for fold 7: -0.002341149517757873\n",
      "The average of mean absolute percentage error for all 7 models is 126.63\n"
     ]
    }
   ],
   "source": [
    "results3 = cross_validate(RFRmodel_kfold, x, y, scoring = 'neg_mean_absolute_percentage_error', cv = kfold)\n",
    "\n",
    "for a in range(len(results3['test_score'])):\n",
    "    print(f\"The mean absolute percentage error score for fold %d: {results3['test_score'][a]}\" % (a + 1))\n",
    "\n",
    "print(f\"The average of mean absolute percentage error for all 7 models is %.2f\" % (mean(absolute(results3['test_score'])) * 100))"
   ]
  },
  {
   "cell_type": "markdown",
   "metadata": {},
   "source": [
    "### 2.4 Leave-One-Out cross validation"
   ]
  },
  {
   "cell_type": "code",
   "execution_count": 196,
   "metadata": {},
   "outputs": [],
   "source": [
    "# Prepare the datset to be split\n",
    "x = annual_df.iloc[:, 0:1].values.astype(float)\n",
    "y = annual_df.iloc[:, 1:2].values.astype(float)\n",
    "y = y.ravel() # flatten y (dependent) data"
   ]
  },
  {
   "cell_type": "code",
   "execution_count": 197,
   "metadata": {},
   "outputs": [],
   "source": [
    "# Create the RFR model\n",
    "RFRmodel_loout = RandomForestRegressor(n_estimators = RFR_num_estmtr, random_state = RFR_ran_st)"
   ]
  },
  {
   "cell_type": "code",
   "execution_count": 198,
   "metadata": {},
   "outputs": [
    {
     "data": {
      "text/plain": [
       "14"
      ]
     },
     "execution_count": 198,
     "metadata": {},
     "output_type": "execute_result"
    }
   ],
   "source": [
    "# Create the leave-one-out object\n",
    "loo = LeaveOneOut()\n",
    "loo.get_n_splits(x)"
   ]
  },
  {
   "cell_type": "code",
   "execution_count": 199,
   "metadata": {},
   "outputs": [
    {
     "name": "stdout",
     "output_type": "stream",
     "text": [
      "The mean absolute error score for fold 1: -465759.9\n",
      "The mean absolute error score for fold 2: -327429.94999999995\n",
      "The mean absolute error score for fold 3: -663474.25\n",
      "The mean absolute error score for fold 4: -2282447.4\n",
      "The mean absolute error score for fold 5: -2147273.45\n",
      "The mean absolute error score for fold 6: -2465008.8\n",
      "The mean absolute error score for fold 7: -1625438.7999999998\n",
      "The mean absolute error score for fold 8: -65665.0\n",
      "The mean absolute error score for fold 9: -453173.33999999985\n",
      "The mean absolute error score for fold 10: -14880.78000000026\n",
      "The mean absolute error score for fold 11: -74691.0700000003\n",
      "The mean absolute error score for fold 12: -47233.799999999814\n",
      "The mean absolute error score for fold 13: -19343.679999999702\n",
      "The mean absolute error score for fold 14: -7902.040000000037\n",
      "The average of mean absolute error for all 14 models is 761408.73 tonnes\n"
     ]
    }
   ],
   "source": [
    "results1 = cross_validate(RFRmodel_loout, x, y, scoring = 'neg_mean_absolute_error', cv = loo)\n",
    "\n",
    "for a in range(len(results1['test_score'])):\n",
    "    print(f\"The mean absolute error score for fold %d: {results1['test_score'][a]}\" % (a + 1))\n",
    "\n",
    "print(f\"The average of mean absolute error for all 14 models is %.2f tonnes\" % mean(absolute(results1['test_score'])))"
   ]
  },
  {
   "cell_type": "code",
   "execution_count": 200,
   "metadata": {},
   "outputs": [
    {
     "name": "stdout",
     "output_type": "stream",
     "text": [
      "The root mean squared error score for fold 1: -465759.9\n",
      "The root mean squared error score for fold 2: -327429.94999999995\n",
      "The root mean squared error score for fold 3: -663474.25\n",
      "The root mean squared error score for fold 4: -2282447.4\n",
      "The root mean squared error score for fold 5: -2147273.45\n",
      "The root mean squared error score for fold 6: -2465008.8\n",
      "The root mean squared error score for fold 7: -1625438.7999999998\n",
      "The root mean squared error score for fold 8: -65665.0\n",
      "The root mean squared error score for fold 9: -453173.33999999985\n",
      "The root mean squared error score for fold 10: -14880.78000000026\n",
      "The root mean squared error score for fold 11: -74691.0700000003\n",
      "The root mean squared error score for fold 12: -47233.799999999814\n",
      "The root mean squared error score for fold 13: -19343.679999999702\n",
      "The root mean squared error score for fold 14: -7902.040000000037\n",
      "The average of root mean squared error for all 14 models is 761408.73 tonnes\n"
     ]
    }
   ],
   "source": [
    "results2 = cross_validate(RFRmodel_loout, x, y, scoring = 'neg_root_mean_squared_error', cv = loo)\n",
    "\n",
    "for a in range(len(results2['test_score'])):\n",
    "    print(f\"The root mean squared error score for fold %d: {results2['test_score'][a]}\" % (a + 1))\n",
    "\n",
    "print(f\"The average of root mean squared error for all 14 models is %.2f tonnes\" % mean(absolute(results2['test_score'])))"
   ]
  },
  {
   "cell_type": "code",
   "execution_count": 201,
   "metadata": {},
   "outputs": [
    {
     "name": "stdout",
     "output_type": "stream",
     "text": [
      "The mean absolute percentage error score for fold 1: -2.744203269995581\n",
      "The mean absolute percentage error score for fold 2: -1.2861068777249693\n",
      "The mean absolute percentage error score for fold 3: -1.954556635734276\n",
      "The mean absolute percentage error score for fold 4: -0.5905487767014406\n",
      "The mean absolute percentage error score for fold 5: -0.3921960639269407\n",
      "The mean absolute percentage error score for fold 6: -0.8441810958904109\n",
      "The mean absolute percentage error score for fold 7: -0.29688379908675794\n",
      "The mean absolute percentage error score for fold 8: -0.011960837887067395\n",
      "The mean absolute percentage error score for fold 9: -0.07439901692956301\n",
      "The mean absolute percentage error score for fold 10: -0.0024589421154386803\n",
      "The mean absolute percentage error score for fold 11: -0.012062784042274906\n",
      "The mean absolute percentage error score for fold 12: -0.00757315288777978\n",
      "The mean absolute percentage error score for fold 13: -0.003116151206070619\n",
      "The mean absolute percentage error score for fold 14: -0.0012734955680902557\n",
      "The average of mean absolute percentage error for all 14 models is 58.73\n"
     ]
    }
   ],
   "source": [
    "results3 = cross_validate(RFRmodel_loout, x, y, scoring = 'neg_mean_absolute_percentage_error', cv = loo)\n",
    "\n",
    "for a in range(len(results3['test_score'])):\n",
    "    print(f\"The mean absolute percentage error score for fold %d: {results3['test_score'][a]}\" % (a + 1))\n",
    "\n",
    "print(f\"The average of mean absolute percentage error for all 14 models is %.2f\" % (mean(absolute(results3['test_score'])) * 100))"
   ]
  }
 ],
 "metadata": {
  "kernelspec": {
   "display_name": "Python 3.10.8 64-bit",
   "language": "python",
   "name": "python3"
  },
  "language_info": {
   "codemirror_mode": {
    "name": "ipython",
    "version": 3
   },
   "file_extension": ".py",
   "mimetype": "text/x-python",
   "name": "python",
   "nbconvert_exporter": "python",
   "pygments_lexer": "ipython3",
   "version": "3.10.8"
  },
  "orig_nbformat": 4,
  "vscode": {
   "interpreter": {
    "hash": "cf84857ea2de4f545e5f9f1554dfe03831a0c97b920b45467b1a29ff4824f293"
   }
  }
 },
 "nbformat": 4,
 "nbformat_minor": 2
}
